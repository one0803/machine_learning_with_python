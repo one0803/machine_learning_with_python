{
 "cells": [
  {
   "cell_type": "code",
   "execution_count": 74,
   "metadata": {},
   "outputs": [],
   "source": [
    "import math\n"
   ]
  },
  {
   "cell_type": "code",
   "execution_count": 75,
   "metadata": {},
   "outputs": [],
   "source": [
    "users_interests = [\n",
    "    [\"Hadoop\", \"Big Data\", \"HBase\", \"Java\", \"Spark\", \"Storm\", \"Cassandra\"],\n",
    "    [\"NoSQL\", \"MongoDB\", \"Cassandra\", \"HBase\", \"Postgres\"],\n",
    "    [\"Python\", \"scikit-learn\", \"scipy\", \"numpy\", \"statsmodels\", \"pandas\"],\n",
    "    [\"R\", \"Python\", \"statistics\", \"regression\", \"probability\"],\n",
    "    [\"machine learning\", \"regression\", \"decision trees\", \"libsvm\"],\n",
    "    [\"Python\", \"R\", \"Java\", \"C++\", \"Haskell\", \"programming languages\"],\n",
    "    [\"statistics\", \"probability\", \"mathematics\", \"theory\"],\n",
    "    [\"machine learning\", \"scikit-learn\", \"Mahout\", \"neural networks\"],\n",
    "    [\"neural networks\", \"deep learning\", \"Big Data\", \"artificial intelligence\"],\n",
    "    [\"Hadoop\", \"Java\", \"MapReduce\", \"Big Data\"],\n",
    "    [\"statistics\", \"R\", \"statsmodels\"],\n",
    "    [\"C++\", \"deep learning\", \"artificial intelligence\", \"probability\"],\n",
    "    [\"pandas\", \"R\", \"Python\"],\n",
    "    [\"databases\", \"HBase\", \"Postgres\", \"MySQL\", \"MongoDB\"],\n",
    "    [\"libsvm\", \"regression\", \"support vector machines\"]\n",
    "]\n"
   ]
  },
  {
   "cell_type": "code",
   "execution_count": 76,
   "metadata": {},
   "outputs": [],
   "source": [
    "#内積\n",
    "def dot(v, w):\n",
    "    return sum(v_i * w_i for v_i, w_i in zip(v, w))\n",
    "\n",
    "#大きさ\n",
    "def magnitude(v):\n",
    "    return math.sqrt(dot(v, v))\n",
    "\n",
    "#類似度計算\n",
    "def cosine_similarity(v, w):\n",
    "    return dot(v, w) / magnitude(v) / magnitude(w)\n"
   ]
  },
  {
   "cell_type": "code",
   "execution_count": 77,
   "metadata": {},
   "outputs": [
    {
     "data": {
      "text/plain": [
       "['Big Data',\n",
       " 'C++',\n",
       " 'Cassandra',\n",
       " 'HBase',\n",
       " 'Hadoop',\n",
       " 'Haskell',\n",
       " 'Java',\n",
       " 'Mahout',\n",
       " 'MapReduce',\n",
       " 'MongoDB',\n",
       " 'MySQL',\n",
       " 'NoSQL',\n",
       " 'Postgres',\n",
       " 'Python',\n",
       " 'R',\n",
       " 'Spark',\n",
       " 'Storm',\n",
       " 'artificial intelligence',\n",
       " 'databases',\n",
       " 'decision trees',\n",
       " 'deep learning',\n",
       " 'libsvm',\n",
       " 'machine learning',\n",
       " 'mathematics',\n",
       " 'neural networks',\n",
       " 'numpy',\n",
       " 'pandas',\n",
       " 'probability',\n",
       " 'programming languages',\n",
       " 'regression',\n",
       " 'scikit-learn',\n",
       " 'scipy',\n",
       " 'statistics',\n",
       " 'statsmodels',\n",
       " 'support vector machines',\n",
       " 'theory']"
      ]
     },
     "execution_count": 77,
     "metadata": {},
     "output_type": "execute_result"
    }
   ],
   "source": [
    "#集合→リスト化→ソート\n",
    "unique_interests = sorted(list({interest for user_interests in users_interests for interest in user_interests}))\n",
    "unique_interests\n"
   ]
  },
  {
   "cell_type": "code",
   "execution_count": 78,
   "metadata": {},
   "outputs": [],
   "source": [
    "#ユーザーベース\n",
    "def make_user_vector(user_id):\n",
    "    user_interests = users_interests[user_id]\n",
    "    return [1 if interest in user_interests else 0 for interest in unique_interests]\n",
    "\n",
    "def user_based_suggestions(user_id, suggestion_num=10):\n",
    "    suggestions = {}\n",
    "    similarities = []\n",
    "    user_vector = make_user_vector(user_id)\n",
    "    \n",
    "    for user2_id in range(len(users_interests)):\n",
    "        if user2_id != user_id:\n",
    "            user2_vector = make_user_vector(user2_id)\n",
    "            similarities.append((user2_id, cosine_similarity(user_vector, user2_vector)))\n",
    "    \n",
    "    for user2_id, similarity in similarities:\n",
    "        for interest in users_interests[user2_id]:\n",
    "            if interest not in suggestions:\n",
    "                suggestions[interest] = similarity\n",
    "            else:\n",
    "                suggestions[interest] += similarity\n",
    "    \n",
    "    suggestions = sorted(suggestions.items(), key=lambda key_value: key_value[1], reverse=True)\n",
    "    num = 0\n",
    "    index = 0\n",
    "    \n",
    "    while num < suggestion_num:\n",
    "        if suggestions[index][0] not in users_interests[user_id]:\n",
    "            print(num, ':', suggestions[index][0])\n",
    "            num += 1\n",
    "        index += 1\n",
    "    "
   ]
  },
  {
   "cell_type": "code",
   "execution_count": 79,
   "metadata": {},
   "outputs": [
    {
     "name": "stdout",
     "output_type": "stream",
     "text": [
      "0 : MapReduce\n",
      "1 : MongoDB\n",
      "2 : Postgres\n",
      "3 : NoSQL\n",
      "4 : neural networks\n",
      "5 : deep learning\n",
      "6 : artificial intelligence\n",
      "7 : databases\n",
      "8 : MySQL\n",
      "9 : Python\n"
     ]
    }
   ],
   "source": [
    "user_based_suggestions(0, 10)\n"
   ]
  },
  {
   "cell_type": "code",
   "execution_count": 80,
   "metadata": {},
   "outputs": [],
   "source": [
    "#アイテムベース\n",
    "def get_column(A, j):\n",
    "    return [A_i[j] for A_i in A]\n",
    "\n",
    "users_interests_matrix = [make_user_vector(user_id) for user_id in range(len(users_interests))]\n",
    "interests_users_matrix = [get_column(users_interests_matrix, interest_id) for interest_id in range(len(unique_interests))]\n",
    "\n",
    "def make_interest_vector(interest):\n",
    "    interest_id = unique_interests.index(interest)\n",
    "    return interests_users_matrix[interest_id]\n",
    "\n",
    "def item_based_suggestions(user_id, suggestion_num=10):\n",
    "    suggestions = {}\n",
    "    similarities = []\n",
    "    \n",
    "    for interest in users_interests[user_id]:\n",
    "        interest_vector = make_interest_vector(interest)\n",
    "        for interest2 in unique_interests:\n",
    "            if interest2 != interest:\n",
    "                interest2_vector = make_interest_vector(interest2)\n",
    "                similarities.append((interest2, cosine_similarity(interest_vector, interest2_vector)))\n",
    "    \n",
    "    for interest2, similarity in similarities:\n",
    "        if interest2 not in suggestions:\n",
    "            suggestions[interest2] = similarity\n",
    "        else:\n",
    "            suggestions[interest2] += similarity\n",
    "    \n",
    "    suggestions = sorted(suggestions.items(), key=lambda key_value: key_value[1], reverse=True)\n",
    "    num = 0\n",
    "    index = 0\n",
    "    \n",
    "    while num < suggestion_num:\n",
    "        if suggestions[index][0] not in users_interests[user_id]:\n",
    "            print(num, ':', suggestions[index][0])\n",
    "            num += 1\n",
    "        index += 1\n",
    "    "
   ]
  },
  {
   "cell_type": "code",
   "execution_count": 81,
   "metadata": {},
   "outputs": [
    {
     "name": "stdout",
     "output_type": "stream",
     "text": [
      "0 : MapReduce\n",
      "1 : MongoDB\n",
      "2 : Postgres\n",
      "3 : NoSQL\n",
      "4 : Haskell\n",
      "5 : MySQL\n",
      "6 : databases\n",
      "7 : programming languages\n",
      "8 : C++\n",
      "9 : artificial intelligence\n"
     ]
    }
   ],
   "source": [
    "item_based_suggestions(0)"
   ]
  },
  {
   "cell_type": "code",
   "execution_count": null,
   "metadata": {},
   "outputs": [],
   "source": []
  }
 ],
 "metadata": {
  "kernelspec": {
   "display_name": "Python 3",
   "language": "python",
   "name": "python3"
  },
  "language_info": {
   "codemirror_mode": {
    "name": "ipython",
    "version": 3
   },
   "file_extension": ".py",
   "mimetype": "text/x-python",
   "name": "python",
   "nbconvert_exporter": "python",
   "pygments_lexer": "ipython3",
   "version": "3.7.3"
  }
 },
 "nbformat": 4,
 "nbformat_minor": 2
}
